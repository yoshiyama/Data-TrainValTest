{
 "cells": [
  {
   "cell_type": "markdown",
   "source": [
    "ラベル(csv)付き画像データセットをTrain-ValとTestに分割する.\n",
    "なお、ここでのラベルは、連続値を前提としているが、離散値でも問題ないだろう。"
   ],
   "metadata": {
    "collapsed": false
   }
  },
  {
   "cell_type": "markdown",
   "source": [
    "# データセットの準備\n",
    "csvファイルと画像フォルダは同じ階層に置く。\n",
    "csvファイルのフォーマットは以下の通り。\n",
    "Filename\tValence\tArousal\n",
    "Animals_001_h.jpg\t2.57\t6.44\n",
    "Animals_002_v.jpg\t6.24\t6.68\n",
    "Animals_003_h.jpg\t5.24\t5.52\n",
    "Animals_004_v.jpg\t4.50\t7.02\n",
    "Animals_005_h.jpg\t5.31\t5.82\n",
    "Animals_006_v.jpg\t5.13\t6.23\n",
    "Animals_007_h.jpg\t4.76\t7.06\n",
    "Animals_008_v.jpg\t2.63\t6.80\n",
    "\n",
    "Filenameは画像ファイル名、ValenceとArousalはラベル値（連続値）。\n",
    "画像フォルダには、Filenameと同じ名前の画像ファイルがあること。が望ましい。\n",
    "ここでは、K-fold交差検証のために、Train-ValとTestに分割する前提。もちろん、応用すれば、Train,Val,Testに分割することも可能。"
   ],
   "metadata": {
    "collapsed": false
   }
  },
  {
   "cell_type": "code",
   "execution_count": null,
   "outputs": [],
   "source": [],
   "metadata": {
    "collapsed": false
   }
  },
  {
   "cell_type": "code",
   "execution_count": null,
   "metadata": {
    "collapsed": true
   },
   "outputs": [],
   "source": []
  }
 ],
 "metadata": {
  "kernelspec": {
   "display_name": "Python 3",
   "language": "python",
   "name": "python3"
  },
  "language_info": {
   "codemirror_mode": {
    "name": "ipython",
    "version": 2
   },
   "file_extension": ".py",
   "mimetype": "text/x-python",
   "name": "python",
   "nbconvert_exporter": "python",
   "pygments_lexer": "ipython2",
   "version": "2.7.6"
  }
 },
 "nbformat": 4,
 "nbformat_minor": 0
}
